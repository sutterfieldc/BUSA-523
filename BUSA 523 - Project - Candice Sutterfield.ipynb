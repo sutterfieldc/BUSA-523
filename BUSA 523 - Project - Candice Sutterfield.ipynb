{
 "cells": [
  {
   "cell_type": "markdown",
   "id": "aab3feb8",
   "metadata": {},
   "source": [
    "Dataset information:\n",
    "https://archive.ics.uci.edu/ml/datasets/Haberman%27s+Survival\n",
    "\n",
    "1. Perform Exploratory data analysis. (20)\n",
    "- What can you conclude from methods of central tendency and deviation of\n",
    "the variables?\n",
    " - ANSWER: There are no missing values based on the counts. The means for age and auxillary nodes are relatively close to each other (in the tens) so normalization may not be necessary. The standard deviations for each variable are small which may indicate small or non-diverse data set.\n",
    "- Are there any correlated variables?\n",
    " - ANSWER: no correlation is found, all variable relationships are below .4, which is good.\n",
    "- Interpret the skewness of the variables.\n",
    " - ANSWER: Age has a normalized distribution.  Num axillary nodes needs to have outliers removed and shows a positive skew which may need to be normalized."
   ]
  },
  {
   "cell_type": "code",
   "execution_count": 1,
   "id": "fd0dc5b5",
   "metadata": {},
   "outputs": [
    {
     "data": {
      "text/html": [
       "<div>\n",
       "<style scoped>\n",
       "    .dataframe tbody tr th:only-of-type {\n",
       "        vertical-align: middle;\n",
       "    }\n",
       "\n",
       "    .dataframe tbody tr th {\n",
       "        vertical-align: top;\n",
       "    }\n",
       "\n",
       "    .dataframe thead th {\n",
       "        text-align: right;\n",
       "    }\n",
       "</style>\n",
       "<table border=\"1\" class=\"dataframe\">\n",
       "  <thead>\n",
       "    <tr style=\"text-align: right;\">\n",
       "      <th></th>\n",
       "      <th>AgeAtOperation</th>\n",
       "      <th>OperationYear</th>\n",
       "      <th>NumAxillaryNodes</th>\n",
       "      <th>SurvivalStatus</th>\n",
       "    </tr>\n",
       "  </thead>\n",
       "  <tbody>\n",
       "    <tr>\n",
       "      <th>0</th>\n",
       "      <td>30</td>\n",
       "      <td>64</td>\n",
       "      <td>1</td>\n",
       "      <td>1</td>\n",
       "    </tr>\n",
       "    <tr>\n",
       "      <th>1</th>\n",
       "      <td>30</td>\n",
       "      <td>62</td>\n",
       "      <td>3</td>\n",
       "      <td>1</td>\n",
       "    </tr>\n",
       "    <tr>\n",
       "      <th>2</th>\n",
       "      <td>30</td>\n",
       "      <td>65</td>\n",
       "      <td>0</td>\n",
       "      <td>1</td>\n",
       "    </tr>\n",
       "    <tr>\n",
       "      <th>3</th>\n",
       "      <td>31</td>\n",
       "      <td>59</td>\n",
       "      <td>2</td>\n",
       "      <td>1</td>\n",
       "    </tr>\n",
       "    <tr>\n",
       "      <th>4</th>\n",
       "      <td>31</td>\n",
       "      <td>65</td>\n",
       "      <td>4</td>\n",
       "      <td>1</td>\n",
       "    </tr>\n",
       "    <tr>\n",
       "      <th>...</th>\n",
       "      <td>...</td>\n",
       "      <td>...</td>\n",
       "      <td>...</td>\n",
       "      <td>...</td>\n",
       "    </tr>\n",
       "    <tr>\n",
       "      <th>301</th>\n",
       "      <td>75</td>\n",
       "      <td>62</td>\n",
       "      <td>1</td>\n",
       "      <td>1</td>\n",
       "    </tr>\n",
       "    <tr>\n",
       "      <th>302</th>\n",
       "      <td>76</td>\n",
       "      <td>67</td>\n",
       "      <td>0</td>\n",
       "      <td>1</td>\n",
       "    </tr>\n",
       "    <tr>\n",
       "      <th>303</th>\n",
       "      <td>77</td>\n",
       "      <td>65</td>\n",
       "      <td>3</td>\n",
       "      <td>1</td>\n",
       "    </tr>\n",
       "    <tr>\n",
       "      <th>304</th>\n",
       "      <td>78</td>\n",
       "      <td>65</td>\n",
       "      <td>1</td>\n",
       "      <td>2</td>\n",
       "    </tr>\n",
       "    <tr>\n",
       "      <th>305</th>\n",
       "      <td>83</td>\n",
       "      <td>58</td>\n",
       "      <td>2</td>\n",
       "      <td>2</td>\n",
       "    </tr>\n",
       "  </tbody>\n",
       "</table>\n",
       "<p>306 rows × 4 columns</p>\n",
       "</div>"
      ],
      "text/plain": [
       "     AgeAtOperation  OperationYear  NumAxillaryNodes  SurvivalStatus\n",
       "0                30             64                 1               1\n",
       "1                30             62                 3               1\n",
       "2                30             65                 0               1\n",
       "3                31             59                 2               1\n",
       "4                31             65                 4               1\n",
       "..              ...            ...               ...             ...\n",
       "301              75             62                 1               1\n",
       "302              76             67                 0               1\n",
       "303              77             65                 3               1\n",
       "304              78             65                 1               2\n",
       "305              83             58                 2               2\n",
       "\n",
       "[306 rows x 4 columns]"
      ]
     },
     "execution_count": 1,
     "metadata": {},
     "output_type": "execute_result"
    }
   ],
   "source": [
    "# Load the data\n",
    "### Survival status (class attribute)\n",
    "###    1 = the patient survived 5 years or longer\n",
    "###    2 = the patient died within 5 year\n",
    "\n",
    "import pandas as pd\n",
    "\n",
    "col_names = [\"AgeAtOperation\",\"OperationYear\",\"NumAxillaryNodes\",\"SurvivalStatus\"]\n",
    "data = pd.read_csv(\"haberman.data\", names=col_names)\n",
    "\n",
    "data"
   ]
  },
  {
   "cell_type": "code",
   "execution_count": 28,
   "id": "c71c1183",
   "metadata": {},
   "outputs": [
    {
     "data": {
      "text/html": [
       "<div>\n",
       "<style scoped>\n",
       "    .dataframe tbody tr th:only-of-type {\n",
       "        vertical-align: middle;\n",
       "    }\n",
       "\n",
       "    .dataframe tbody tr th {\n",
       "        vertical-align: top;\n",
       "    }\n",
       "\n",
       "    .dataframe thead th {\n",
       "        text-align: right;\n",
       "    }\n",
       "</style>\n",
       "<table border=\"1\" class=\"dataframe\">\n",
       "  <thead>\n",
       "    <tr style=\"text-align: right;\">\n",
       "      <th></th>\n",
       "      <th>AgeAtOperation</th>\n",
       "      <th>OperationYear</th>\n",
       "      <th>NumAxillaryNodes</th>\n",
       "      <th>SurvivalStatus</th>\n",
       "    </tr>\n",
       "  </thead>\n",
       "  <tbody>\n",
       "    <tr>\n",
       "      <th>count</th>\n",
       "      <td>306.000000</td>\n",
       "      <td>306.000000</td>\n",
       "      <td>306.000000</td>\n",
       "      <td>306.000000</td>\n",
       "    </tr>\n",
       "    <tr>\n",
       "      <th>mean</th>\n",
       "      <td>52.457516</td>\n",
       "      <td>62.852941</td>\n",
       "      <td>4.026144</td>\n",
       "      <td>1.264706</td>\n",
       "    </tr>\n",
       "    <tr>\n",
       "      <th>std</th>\n",
       "      <td>10.803452</td>\n",
       "      <td>3.249405</td>\n",
       "      <td>7.189654</td>\n",
       "      <td>0.441899</td>\n",
       "    </tr>\n",
       "    <tr>\n",
       "      <th>min</th>\n",
       "      <td>30.000000</td>\n",
       "      <td>58.000000</td>\n",
       "      <td>0.000000</td>\n",
       "      <td>1.000000</td>\n",
       "    </tr>\n",
       "    <tr>\n",
       "      <th>25%</th>\n",
       "      <td>44.000000</td>\n",
       "      <td>60.000000</td>\n",
       "      <td>0.000000</td>\n",
       "      <td>1.000000</td>\n",
       "    </tr>\n",
       "    <tr>\n",
       "      <th>50%</th>\n",
       "      <td>52.000000</td>\n",
       "      <td>63.000000</td>\n",
       "      <td>1.000000</td>\n",
       "      <td>1.000000</td>\n",
       "    </tr>\n",
       "    <tr>\n",
       "      <th>75%</th>\n",
       "      <td>60.750000</td>\n",
       "      <td>65.750000</td>\n",
       "      <td>4.000000</td>\n",
       "      <td>2.000000</td>\n",
       "    </tr>\n",
       "    <tr>\n",
       "      <th>max</th>\n",
       "      <td>83.000000</td>\n",
       "      <td>69.000000</td>\n",
       "      <td>52.000000</td>\n",
       "      <td>2.000000</td>\n",
       "    </tr>\n",
       "  </tbody>\n",
       "</table>\n",
       "</div>"
      ],
      "text/plain": [
       "       AgeAtOperation  OperationYear  NumAxillaryNodes  SurvivalStatus\n",
       "count      306.000000     306.000000        306.000000      306.000000\n",
       "mean        52.457516      62.852941          4.026144        1.264706\n",
       "std         10.803452       3.249405          7.189654        0.441899\n",
       "min         30.000000      58.000000          0.000000        1.000000\n",
       "25%         44.000000      60.000000          0.000000        1.000000\n",
       "50%         52.000000      63.000000          1.000000        1.000000\n",
       "75%         60.750000      65.750000          4.000000        2.000000\n",
       "max         83.000000      69.000000         52.000000        2.000000"
      ]
     },
     "execution_count": 28,
     "metadata": {},
     "output_type": "execute_result"
    }
   ],
   "source": [
    "# Central Tendancy and Deviation\n",
    "import statistics \n",
    "\n",
    "data.describe()\n",
    "\n",
    "#ANSWER: see question #1 above"
   ]
  },
  {
   "cell_type": "code",
   "execution_count": 29,
   "id": "217f1cc8",
   "metadata": {},
   "outputs": [
    {
     "name": "stdout",
     "output_type": "stream",
     "text": [
      "Mode of NumAxillaryNodes is 0\n"
     ]
    }
   ],
   "source": [
    "print(\"Mode of NumAxillaryNodes is % s\" % statistics.mode(data[\"NumAxillaryNodes\"]))"
   ]
  },
  {
   "cell_type": "code",
   "execution_count": 2,
   "id": "42944886",
   "metadata": {},
   "outputs": [
    {
     "data": {
      "image/png": "[encoded data removed]",
      "text/plain": [
       "<Figure size 432x288 with 2 Axes>"
      ]
     },
     "metadata": {
      "needs_background": "light"
     },
     "output_type": "display_data"
    }
   ],
   "source": [
    "# Correlation\n",
    "import seaborn as sns\n",
    "import matplotlib.pyplot as plt\n",
    "\n",
    "sns.heatmap(data.corr())\n",
    "plt.show()\n",
    "\n",
    "#ANSWER: no correlation is found, all variable relationships are below .4, which is good."
   ]
  },
  {
   "cell_type": "code",
   "execution_count": 26,
   "id": "3096b028",
   "metadata": {
    "scrolled": true
   },
   "outputs": [
    {
     "data": {
      "text/plain": [
       "array([[<AxesSubplot:title={'center':'AgeAtOperation'}>,\n",
       "        <AxesSubplot:title={'center':'OperationYear'}>],\n",
       "       [<AxesSubplot:title={'center':'NumAxillaryNodes'}>,\n",
       "        <AxesSubplot:title={'center':'SurvivalStatus'}>]], dtype=object)"
      ]
     },
     "execution_count": 26,
     "metadata": {},
     "output_type": "execute_result"
    },
    {
     "data": {
      "image/png": "[encoded data removed]",
      "text/plain": [
       "<Figure size 432x288 with 1 Axes>"
      ]
     },
     "metadata": {
      "needs_background": "light"
     },
     "output_type": "display_data"
    },
    {
     "data": {
      "image/png": "[encoded data removed]",
      "text/plain": [
       "<Figure size 432x288 with 4 Axes>"
      ]
     },
     "metadata": {
      "needs_background": "light"
     },
     "output_type": "display_data"
    }
   ],
   "source": [
    "# Interpret Skewness and outliers\n",
    "\n",
    "data.plot.box() # check for outlier\n",
    "data.hist()     # check for skewness\n",
    "\n",
    "#ANSWER: Age has a normalized distribution.  Num axillary nodes needs to have outliers removed and \n",
    "#  shows a positive skew which may need to be normalized. Not concerned about year because nor \n",
    "#  survival status because it is the class field"
   ]
  },
  {
   "cell_type": "code",
   "execution_count": 130,
   "id": "0e5e4030",
   "metadata": {},
   "outputs": [
    {
     "data": {
      "text/plain": [
       "<AxesSubplot:>"
      ]
     },
     "execution_count": 130,
     "metadata": {},
     "output_type": "execute_result"
    },
    {
     "data": {
      "image/png": "[encoded data removed]",
      "text/plain": [
       "<Figure size 432x288 with 1 Axes>"
      ]
     },
     "metadata": {
      "needs_background": "light"
     },
     "output_type": "display_data"
    }
   ],
   "source": [
    "# remove outlier in auxillary nodes\n",
    "# Max = 75% + 1.5* (75% - 25%) (IQR: interquartile range)\n",
    "maximum = 4 + 1.5*(4-0)\n",
    "\n",
    "data_no_outlier = data[data[\"NumAxillaryNodes\"] <= maximum]\n",
    "data_no_outlier.plot.box()"
   ]
  },
  {
   "cell_type": "code",
   "execution_count": 160,
   "id": "6394e576",
   "metadata": {},
   "outputs": [
    {
     "data": {
      "text/html": [
       "<div>\n",
       "<style scoped>\n",
       "    .dataframe tbody tr th:only-of-type {\n",
       "        vertical-align: middle;\n",
       "    }\n",
       "\n",
       "    .dataframe tbody tr th {\n",
       "        vertical-align: top;\n",
       "    }\n",
       "\n",
       "    .dataframe thead th {\n",
       "        text-align: right;\n",
       "    }\n",
       "</style>\n",
       "<table border=\"1\" class=\"dataframe\">\n",
       "  <thead>\n",
       "    <tr style=\"text-align: right;\">\n",
       "      <th></th>\n",
       "      <th>AgeAtOperation</th>\n",
       "      <th>OperationYear</th>\n",
       "      <th>NumAxillaryNodes</th>\n",
       "      <th>SurvivalStatus</th>\n",
       "    </tr>\n",
       "  </thead>\n",
       "  <tbody>\n",
       "    <tr>\n",
       "      <th>0</th>\n",
       "      <td>-2.057605</td>\n",
       "      <td>0.354548</td>\n",
       "      <td>-0.278498</td>\n",
       "      <td>-0.528059</td>\n",
       "    </tr>\n",
       "    <tr>\n",
       "      <th>1</th>\n",
       "      <td>-2.057605</td>\n",
       "      <td>-0.259848</td>\n",
       "      <td>0.509592</td>\n",
       "      <td>-0.528059</td>\n",
       "    </tr>\n",
       "    <tr>\n",
       "      <th>2</th>\n",
       "      <td>-2.057605</td>\n",
       "      <td>0.661745</td>\n",
       "      <td>-0.672543</td>\n",
       "      <td>-0.528059</td>\n",
       "    </tr>\n",
       "    <tr>\n",
       "      <th>3</th>\n",
       "      <td>-1.966551</td>\n",
       "      <td>-1.181441</td>\n",
       "      <td>0.115547</td>\n",
       "      <td>-0.528059</td>\n",
       "    </tr>\n",
       "    <tr>\n",
       "      <th>4</th>\n",
       "      <td>-1.966551</td>\n",
       "      <td>0.661745</td>\n",
       "      <td>0.903637</td>\n",
       "      <td>-0.528059</td>\n",
       "    </tr>\n",
       "    <tr>\n",
       "      <th>...</th>\n",
       "      <td>...</td>\n",
       "      <td>...</td>\n",
       "      <td>...</td>\n",
       "      <td>...</td>\n",
       "    </tr>\n",
       "    <tr>\n",
       "      <th>261</th>\n",
       "      <td>2.039805</td>\n",
       "      <td>-0.259848</td>\n",
       "      <td>-0.278498</td>\n",
       "      <td>-0.528059</td>\n",
       "    </tr>\n",
       "    <tr>\n",
       "      <th>262</th>\n",
       "      <td>2.130858</td>\n",
       "      <td>1.276141</td>\n",
       "      <td>-0.672543</td>\n",
       "      <td>-0.528059</td>\n",
       "    </tr>\n",
       "    <tr>\n",
       "      <th>263</th>\n",
       "      <td>2.221912</td>\n",
       "      <td>0.661745</td>\n",
       "      <td>0.509592</td>\n",
       "      <td>-0.528059</td>\n",
       "    </tr>\n",
       "    <tr>\n",
       "      <th>264</th>\n",
       "      <td>2.312965</td>\n",
       "      <td>0.661745</td>\n",
       "      <td>-0.278498</td>\n",
       "      <td>1.893728</td>\n",
       "    </tr>\n",
       "    <tr>\n",
       "      <th>265</th>\n",
       "      <td>2.768233</td>\n",
       "      <td>-1.488638</td>\n",
       "      <td>0.115547</td>\n",
       "      <td>1.893728</td>\n",
       "    </tr>\n",
       "  </tbody>\n",
       "</table>\n",
       "<p>266 rows × 4 columns</p>\n",
       "</div>"
      ],
      "text/plain": [
       "     AgeAtOperation  OperationYear  NumAxillaryNodes  SurvivalStatus\n",
       "0         -2.057605       0.354548         -0.278498       -0.528059\n",
       "1         -2.057605      -0.259848          0.509592       -0.528059\n",
       "2         -2.057605       0.661745         -0.672543       -0.528059\n",
       "3         -1.966551      -1.181441          0.115547       -0.528059\n",
       "4         -1.966551       0.661745          0.903637       -0.528059\n",
       "..              ...            ...               ...             ...\n",
       "261        2.039805      -0.259848         -0.278498       -0.528059\n",
       "262        2.130858       1.276141         -0.672543       -0.528059\n",
       "263        2.221912       0.661745          0.509592       -0.528059\n",
       "264        2.312965       0.661745         -0.278498        1.893728\n",
       "265        2.768233      -1.488638          0.115547        1.893728\n",
       "\n",
       "[266 rows x 4 columns]"
      ]
     },
     "execution_count": 160,
     "metadata": {},
     "output_type": "execute_result"
    }
   ],
   "source": [
    "# Evaluate Standardization - Scikit-learn library\n",
    "\n",
    "from sklearn.preprocessing import StandardScaler #for standardization\n",
    "from sklearn.preprocessing import MinMaxScaler   #for normalization\n",
    "\n",
    "scaler = StandardScaler() #to Standardize\n",
    "scaler.fit(data_no_outlier)\n",
    "scaled = scaler.fit_transform(data_no_outlier)\n",
    "scaled_data = pd.DataFrame(scaled, columns = data_no_outlier.columns)\n",
    "\n",
    "scaled_data"
   ]
  },
  {
   "cell_type": "code",
   "execution_count": 161,
   "id": "e24dec10",
   "metadata": {},
   "outputs": [
    {
     "data": {
      "text/html": [
       "<div>\n",
       "<style scoped>\n",
       "    .dataframe tbody tr th:only-of-type {\n",
       "        vertical-align: middle;\n",
       "    }\n",
       "\n",
       "    .dataframe tbody tr th {\n",
       "        vertical-align: top;\n",
       "    }\n",
       "\n",
       "    .dataframe thead th {\n",
       "        text-align: right;\n",
       "    }\n",
       "</style>\n",
       "<table border=\"1\" class=\"dataframe\">\n",
       "  <thead>\n",
       "    <tr style=\"text-align: right;\">\n",
       "      <th></th>\n",
       "      <th>AgeAtOperation</th>\n",
       "      <th>OperationYear</th>\n",
       "      <th>NumAxillaryNodes</th>\n",
       "      <th>SurvivalStatus</th>\n",
       "    </tr>\n",
       "  </thead>\n",
       "  <tbody>\n",
       "    <tr>\n",
       "      <th>0</th>\n",
       "      <td>0.000000</td>\n",
       "      <td>0.545455</td>\n",
       "      <td>0.1</td>\n",
       "      <td>0.0</td>\n",
       "    </tr>\n",
       "    <tr>\n",
       "      <th>1</th>\n",
       "      <td>0.000000</td>\n",
       "      <td>0.363636</td>\n",
       "      <td>0.3</td>\n",
       "      <td>0.0</td>\n",
       "    </tr>\n",
       "    <tr>\n",
       "      <th>2</th>\n",
       "      <td>0.000000</td>\n",
       "      <td>0.636364</td>\n",
       "      <td>0.0</td>\n",
       "      <td>0.0</td>\n",
       "    </tr>\n",
       "    <tr>\n",
       "      <th>3</th>\n",
       "      <td>0.018868</td>\n",
       "      <td>0.090909</td>\n",
       "      <td>0.2</td>\n",
       "      <td>0.0</td>\n",
       "    </tr>\n",
       "    <tr>\n",
       "      <th>4</th>\n",
       "      <td>0.018868</td>\n",
       "      <td>0.636364</td>\n",
       "      <td>0.4</td>\n",
       "      <td>0.0</td>\n",
       "    </tr>\n",
       "    <tr>\n",
       "      <th>...</th>\n",
       "      <td>...</td>\n",
       "      <td>...</td>\n",
       "      <td>...</td>\n",
       "      <td>...</td>\n",
       "    </tr>\n",
       "    <tr>\n",
       "      <th>261</th>\n",
       "      <td>0.849057</td>\n",
       "      <td>0.363636</td>\n",
       "      <td>0.1</td>\n",
       "      <td>0.0</td>\n",
       "    </tr>\n",
       "    <tr>\n",
       "      <th>262</th>\n",
       "      <td>0.867925</td>\n",
       "      <td>0.818182</td>\n",
       "      <td>0.0</td>\n",
       "      <td>0.0</td>\n",
       "    </tr>\n",
       "    <tr>\n",
       "      <th>263</th>\n",
       "      <td>0.886792</td>\n",
       "      <td>0.636364</td>\n",
       "      <td>0.3</td>\n",
       "      <td>0.0</td>\n",
       "    </tr>\n",
       "    <tr>\n",
       "      <th>264</th>\n",
       "      <td>0.905660</td>\n",
       "      <td>0.636364</td>\n",
       "      <td>0.1</td>\n",
       "      <td>1.0</td>\n",
       "    </tr>\n",
       "    <tr>\n",
       "      <th>265</th>\n",
       "      <td>1.000000</td>\n",
       "      <td>0.000000</td>\n",
       "      <td>0.2</td>\n",
       "      <td>1.0</td>\n",
       "    </tr>\n",
       "  </tbody>\n",
       "</table>\n",
       "<p>266 rows × 4 columns</p>\n",
       "</div>"
      ],
      "text/plain": [
       "     AgeAtOperation  OperationYear  NumAxillaryNodes  SurvivalStatus\n",
       "0          0.000000       0.545455               0.1             0.0\n",
       "1          0.000000       0.363636               0.3             0.0\n",
       "2          0.000000       0.636364               0.0             0.0\n",
       "3          0.018868       0.090909               0.2             0.0\n",
       "4          0.018868       0.636364               0.4             0.0\n",
       "..              ...            ...               ...             ...\n",
       "261        0.849057       0.363636               0.1             0.0\n",
       "262        0.867925       0.818182               0.0             0.0\n",
       "263        0.886792       0.636364               0.3             0.0\n",
       "264        0.905660       0.636364               0.1             1.0\n",
       "265        1.000000       0.000000               0.2             1.0\n",
       "\n",
       "[266 rows x 4 columns]"
      ]
     },
     "execution_count": 161,
     "metadata": {},
     "output_type": "execute_result"
    }
   ],
   "source": [
    "# Evaluate Normalization - Scikit-learn library\n",
    "\n",
    "from sklearn.preprocessing import StandardScaler #for standardization\n",
    "from sklearn.preprocessing import MinMaxScaler   #for normalization\n",
    "\n",
    "scaler = MinMaxScaler() #to Normalize\n",
    "scaler.fit(data_no_outlier)\n",
    "scaled = scaler.fit_transform(data_no_outlier)\n",
    "scaled_data = pd.DataFrame(scaled, columns = data_no_outlier.columns)\n",
    "\n",
    "scaled_data"
   ]
  },
  {
   "cell_type": "markdown",
   "id": "6e4eee19",
   "metadata": {},
   "source": [
    "2a. Develop Supervised learning models. (50)\n",
    "- Logistic Regression\n",
    "- Random Forest\n",
    "- Support Vector Machine\n",
    "- Neural Network"
   ]
  },
  {
   "cell_type": "code",
   "execution_count": 131,
   "id": "5bd8d483",
   "metadata": {},
   "outputs": [],
   "source": [
    "# imports needed for all learning models\n",
    "import numpy as np\n",
    "from matplotlib import pyplot\n",
    "import matplotlib.pyplot as plt\n",
    "import sklearn\n",
    "from sklearn import svm, datasets\n",
    "from sklearn.model_selection import train_test_split, GridSearchCV, KFold\n",
    "from sklearn.pipeline import make_pipeline, Pipeline\n",
    "from sklearn.preprocessing import StandardScaler\n",
    "from sklearn.metrics import confusion_matrix, ConfusionMatrixDisplay, plot_roc_curve, classification_report, accuracy_score\n",
    "from sklearn.linear_model import LogisticRegression\n",
    "from sklearn.ensemble import RandomForestClassifier\n",
    "from sklearn.svm import SVC\n",
    "from sklearn.neural_network import MLPClassifier\n",
    "from sklearn.neighbors import KNeighborsClassifier #measures distance btw 2 points\n",
    "from sklearn.model_selection import cross_val_score\n",
    "\n",
    "#hot encode data - makes the decision var the index at column 0\n",
    "data_henc = pd.get_dummies(data_no_outlier, columns = [\"AgeAtOperation\",\"OperationYear\",\"NumAxillaryNodes\"])\n",
    "#data_henc.columns ### no unknown columns to remove\n",
    "\n",
    "# set up test and training data sets\n",
    "X = data_henc.iloc[:,1:]  # select all columns beginning at 2nd column (index[1])\n",
    "Y = data_henc.iloc[:,0]   # set as the decision var\n",
    "X_train, X_test, Y_train, Y_test = train_test_split(X, Y, test_size=0.3)"
   ]
  },
  {
   "cell_type": "code",
   "execution_count": 111,
   "id": "c3c4a9fb",
   "metadata": {
    "scrolled": true
   },
   "outputs": [
    {
     "name": "stdout",
     "output_type": "stream",
     "text": [
      "Accuracy: 0.70\n"
     ]
    },
    {
     "data": {
      "image/png": "[encoded data removed]",
      "text/plain": [
       "<Figure size 432x288 with 2 Axes>"
      ]
     },
     "metadata": {
      "needs_background": "light"
     },
     "output_type": "display_data"
    }
   ],
   "source": [
    "# Logistic Regression\n",
    "\n",
    "#classifier = make_pipeline(StandardScaler(), LogisticRegression())\n",
    "classifier = LogisticRegression(solver='lbfgs',random_state=10, penalty='none', max_iter=300)\n",
    "classifier.fit(X_train, Y_train)\n",
    "\n",
    "print('Accuracy: {:.2f}'.format(classifier.score(X_test, Y_test)))\n",
    "\n",
    "prediction = classifier.predict(X_test)\n",
    "\n",
    "cm = confusion_matrix(Y_test, prediction, labels=classifier.classes_)\n",
    "predict_labels = [\"Survived\",\"Died\"]\n",
    "\n",
    "disp = ConfusionMatrixDisplay(confusion_matrix = cm, display_labels = predict_labels)\n",
    "disp.plot()\n",
    "plt.show()"
   ]
  },
  {
   "cell_type": "code",
   "execution_count": 112,
   "id": "ee134ea7",
   "metadata": {},
   "outputs": [
    {
     "name": "stdout",
     "output_type": "stream",
     "text": [
      "Accuracy: 0.74\n"
     ]
    },
    {
     "data": {
      "image/png": "[encoded data removed]",
      "text/plain": [
       "<Figure size 432x288 with 2 Axes>"
      ]
     },
     "metadata": {
      "needs_background": "light"
     },
     "output_type": "display_data"
    }
   ],
   "source": [
    "# Random Forest \n",
    "\n",
    "classifier = RandomForestClassifier(max_depth=2, random_state=0)\n",
    "classifier.fit(X_train, Y_train)\n",
    "\n",
    "print('Accuracy: {:.2f}'.format(classifier.score(X_test, Y_test)))\n",
    "\n",
    "prediction = classifier.predict(X_test)\n",
    "\n",
    "cm = confusion_matrix(Y_test, prediction, labels=classifier.classes_)\n",
    "predict_labels = [\"Survived\",\"Died\"]\n",
    "\n",
    "disp = ConfusionMatrixDisplay(confusion_matrix = cm, display_labels = predict_labels)\n",
    "disp.plot()\n",
    "plt.show()"
   ]
  },
  {
   "cell_type": "code",
   "execution_count": 113,
   "id": "1d1732e1",
   "metadata": {
    "scrolled": true
   },
   "outputs": [
    {
     "name": "stdout",
     "output_type": "stream",
     "text": [
      "Accuracy: 0.74\n"
     ]
    },
    {
     "data": {
      "image/png": "[encoded data removed]",
      "text/plain": [
       "<Figure size 432x288 with 2 Axes>"
      ]
     },
     "metadata": {
      "needs_background": "light"
     },
     "output_type": "display_data"
    }
   ],
   "source": [
    "# Support Vector Machine\n",
    "\n",
    "classifier = SVC(kernel='rbf')\n",
    "classifier.fit(X_train, Y_train)\n",
    "\n",
    "print('Accuracy: {:.2f}'.format(classifier.score(X_test, Y_test)))\n",
    "\n",
    "prediction = classifier.predict(X_test)\n",
    "\n",
    "cm = confusion_matrix(Y_test, prediction, labels=classifier.classes_)\n",
    "predict_labels = [\"Survived\",\"Died\"]\n",
    "\n",
    "disp = ConfusionMatrixDisplay(confusion_matrix = cm, display_labels = predict_labels)\n",
    "disp.plot()\n",
    "plt.show()"
   ]
  },
  {
   "cell_type": "code",
   "execution_count": 32,
   "id": "d993457f",
   "metadata": {},
   "outputs": [
    {
     "name": "stdout",
     "output_type": "stream",
     "text": [
      "Accuracy: 0.70\n"
     ]
    },
    {
     "data": {
      "image/png": "[encoded data removed]",
      "text/plain": [
       "<Figure size 432x288 with 2 Axes>"
      ]
     },
     "metadata": {
      "needs_background": "light"
     },
     "output_type": "display_data"
    }
   ],
   "source": [
    "# Neural Network\n",
    "\n",
    "classifier = MLPClassifier(solver='lbfgs', alpha=0.0001)\n",
    "classifier.fit(X_train, Y_train)\n",
    "\n",
    "print('Accuracy: {:.2f}'.format(classifier.score(X_test, Y_test)))\n",
    "\n",
    "prediction = classifier.predict(X_test)\n",
    "\n",
    "cm = confusion_matrix(Y_test, prediction, labels=classifier.classes_)\n",
    "predict_labels = [\"Survived\",\"Died\"]\n",
    "\n",
    "disp = ConfusionMatrixDisplay(confusion_matrix = cm, display_labels = predict_labels)\n",
    "disp.plot()\n",
    "plt.show()"
   ]
  },
  {
   "cell_type": "markdown",
   "id": "ac4c1795",
   "metadata": {},
   "source": [
    "2b. Compare the 4 methods based on the performance metrics and identify the best\n",
    "model for this problem.\n",
    "- Use 10 - fold cross validation.\n",
    "- Use GridSearchCV for searching through hyper parameters."
   ]
  },
  {
   "cell_type": "code",
   "execution_count": 52,
   "id": "dbfb9a5a",
   "metadata": {},
   "outputs": [
    {
     "name": "stdout",
     "output_type": "stream",
     "text": [
      "Logistic Regression: 0.7\n",
      "Random Forest: 0.657142857142857\n",
      "Support Vector Machine: 0.7642857142857142\n",
      "Neural Network: 0.580952380952381\n"
     ]
    }
   ],
   "source": [
    "# 10 Fold cross validation, use parameter cv=10 in cross_val_score()\n",
    "\n",
    "print(\"Logistic Regression: \" + str(cross_val_score(LogisticRegression(max_iter=300), X_test, Y_test, cv=10, scoring='accuracy').mean()))\n",
    "print(\"Random Forest: \" + str(cross_val_score(RandomForestClassifier(), X_test, Y_test, cv=10, scoring='accuracy').mean()))\n",
    "print(\"Support Vector Machine: \" + str(cross_val_score(SVC(), X_test, Y_test, cv=10, scoring='accuracy').mean()))\n",
    "print(\"Neural Network: \" + str(cross_val_score(MLPClassifier(solver='lbfgs', alpha=0.0001), X_test, Y_test, cv=10, scoring='accuracy').mean()))\n",
    "\n",
    "# ANSWER: the Support Vector Machine (SVM) is performing the most accurately at 76%"
   ]
  },
  {
   "cell_type": "code",
   "execution_count": 67,
   "id": "6ae65e77",
   "metadata": {},
   "outputs": [
    {
     "name": "stdout",
     "output_type": "stream",
     "text": [
      "Best score of 0.76 with following parms:\n"
     ]
    },
    {
     "data": {
      "text/plain": [
       "{'C': 1, 'kernel': 'rbf'}"
      ]
     },
     "execution_count": 67,
     "metadata": {},
     "output_type": "execute_result"
    }
   ],
   "source": [
    "# GridSearchCV for hyper parameter tuning - finding the best parms to pass into the model\n",
    "# Finding for SVM since it was the best model to use based on cross validation\n",
    "\n",
    "# 2nd parm is grid of parms/values to eval\n",
    "clf = GridSearchCV(svm.SVC(gamma='auto'),{'C':[1,10,20],\n",
    "                                          'kernel':['rbf','linear']}, \n",
    "                            cv=10, return_train_score=False)\n",
    "clf.fit(X_train, Y_train)\n",
    "\n",
    "df = pd.DataFrame(clf.cv_results_)\n",
    "df[['param_C','param_kernel','mean_test_score']]\n",
    "\n",
    "#dir(clf) # get list of all available properties\n",
    "print('Best score of {:.2f}'.format(clf.best_score_)+ ' with following parms:')\n",
    "clf.best_params_"
   ]
  },
  {
   "cell_type": "markdown",
   "id": "49df72f3",
   "metadata": {},
   "source": [
    "3. Evaluate: are the algorithms overfitting? (10)"
   ]
  },
  {
   "cell_type": "code",
   "execution_count": 157,
   "id": "351f0840",
   "metadata": {},
   "outputs": [
    {
     "name": "stdout",
     "output_type": "stream",
     "text": [
      ">1, train: 84.946, test: 75.000, diff: 9.95\n",
      ">2, train: 82.796, test: 75.000, diff: 7.80\n",
      ">3, train: 83.333, test: 77.500, diff: 5.83\n",
      ">4, train: 85.484, test: 73.750, diff: 11.73\n",
      ">5, train: 83.871, test: 77.500, diff: 6.37\n",
      ">6, train: 84.946, test: 77.500, diff: 7.45\n",
      ">7, train: 83.333, test: 86.250, diff: -2.92\n",
      ">8, train: 84.946, test: 83.750, diff: 1.20\n",
      ">9, train: 81.720, test: 76.250, diff: 5.47\n",
      ">10, train: 83.871, test: 75.000, diff: 8.87\n",
      ">11, train: 82.258, test: 82.500, diff: -0.24\n",
      ">12, train: 84.946, test: 75.000, diff: 9.95\n",
      ">13, train: 85.484, test: 78.750, diff: 6.73\n",
      ">14, train: 81.183, test: 78.750, diff: 2.43\n",
      ">15, train: 84.946, test: 80.000, diff: 4.95\n",
      ">16, train: 81.720, test: 78.750, diff: 2.97\n",
      ">17, train: 81.720, test: 81.250, diff: 0.47\n",
      ">18, train: 82.258, test: 75.000, diff: 7.26\n",
      ">19, train: 80.645, test: 72.500, diff: 8.15\n",
      ">20, train: 82.258, test: 80.000, diff: 2.26\n",
      ">21, train: 83.333, test: 80.000, diff: 3.33\n",
      ">22, train: 83.871, test: 81.250, diff: 2.62\n",
      ">23, train: 82.258, test: 80.000, diff: 2.26\n",
      ">24, train: 82.258, test: 82.500, diff: -0.24\n",
      ">25, train: 80.645, test: 83.750, diff: -3.10\n",
      ">26, train: 81.720, test: 77.500, diff: 4.22\n",
      ">27, train: 81.720, test: 78.750, diff: 2.97\n",
      ">28, train: 83.871, test: 80.000, diff: 3.87\n",
      ">29, train: 81.720, test: 82.500, diff: -0.78\n",
      ">30, train: 81.720, test: 76.250, diff: 5.47\n",
      ">31, train: 84.946, test: 76.250, diff: 8.70\n",
      ">32, train: 85.484, test: 83.750, diff: 1.73\n",
      ">33, train: 82.796, test: 78.750, diff: 4.05\n",
      ">34, train: 84.409, test: 80.000, diff: 4.41\n",
      ">35, train: 80.108, test: 77.500, diff: 2.61\n",
      ">36, train: 82.796, test: 72.500, diff: 10.30\n",
      ">37, train: 83.871, test: 78.750, diff: 5.12\n",
      ">38, train: 84.946, test: 78.750, diff: 6.20\n",
      ">39, train: 82.258, test: 75.000, diff: 7.26\n",
      ">40, train: 85.484, test: 82.500, diff: 2.98\n",
      ">41, train: 84.409, test: 73.750, diff: 10.66\n",
      ">42, train: 84.946, test: 78.750, diff: 6.20\n",
      ">43, train: 84.946, test: 76.250, diff: 8.70\n",
      ">44, train: 86.559, test: 80.000, diff: 6.56\n"
     ]
    },
    {
     "data": {
      "image/png": "[encoded data removed]",
      "text/plain": [
       "<Figure size 432x288 with 1 Axes>"
      ]
     },
     "metadata": {
      "needs_background": "light"
     },
     "output_type": "display_data"
    }
   ],
   "source": [
    "# Evaluate overfitting - using encoded data\n",
    "\n",
    "train_scores, test_scores = list(), list()\n",
    "values = [i for i in range(1, 45)]\n",
    "for i in values:\n",
    "    X = data_henc.iloc[:,1:]  # select all columns beginning at 2nd column (index[1])\n",
    "    Y = data_henc.iloc[:,0]   # set as the decision var\n",
    "    X_train, X_test, Y_train, Y_test = train_test_split(X, Y, test_size=0.3)\n",
    "\n",
    "    classifier = SVC(kernel='rbf')\n",
    "    classifier.fit(X_train, Y_train)\n",
    "    \n",
    "    # evaluate on the train dataset\n",
    "    train_predict = classifier.predict(X_train)\n",
    "    train_acc = accuracy_score(Y_train, train_predict)\n",
    "    train_scores.append(train_acc)\n",
    "    # evaluate on the test dataset\n",
    "    test_predict = classifier.predict(X_test)\n",
    "    test_acc = accuracy_score(Y_test, test_predict)\n",
    "    test_scores.append(test_acc)\n",
    "    \n",
    "    print('>%d, train: %.3f, test: %.3f, diff: %.2f' % (i, train_acc*100, test_acc*100, (train_acc-test_acc)*100))\n",
    "\n",
    "# plot of train and test scores vs number of neighbors\n",
    "pyplot.plot(values, train_scores, '-o', label='Train')\n",
    "pyplot.plot(values, test_scores, '-o', label='Test')\n",
    "pyplot.legend()\n",
    "pyplot.show()\n",
    "\n",
    "#CONCLUSION: With an average diff between train and test of about 5%, we determine there is NO overfitting."
   ]
  },
  {
   "cell_type": "code",
   "execution_count": 150,
   "id": "41f2b6c5",
   "metadata": {},
   "outputs": [
    {
     "data": {
      "image/png": "[encoded data removed]",
      "text/plain": [
       "<Figure size 432x288 with 1 Axes>"
      ]
     },
     "metadata": {
      "needs_background": "light"
     },
     "output_type": "display_data"
    }
   ],
   "source": [
    "# Evaluate overfitting - raw data\n",
    "\n",
    "train_scores, test_scores = list(), list()\n",
    "values = [i for i in range(1, 45)]\n",
    "for i in values:\n",
    "    X = data_no_outlier.iloc[:,0:3]  # select all columns beginning at 2nd column (index[1])\n",
    "    Y = data_no_outlier.iloc[:,3]   # set as the decision var\n",
    "    X_train, X_test, Y_train, Y_test = train_test_split(X, Y, test_size=0.3)\n",
    "\n",
    "    classifier = SVC(kernel='rbf')\n",
    "    classifier.fit(X_train, Y_train)\n",
    "    \n",
    "    # evaluate on the train dataset\n",
    "    train_predict = classifier.predict(X_train)\n",
    "    train_acc = accuracy_score(Y_train, train_predict)\n",
    "    train_scores.append(train_acc)\n",
    "    # evaluate on the test dataset\n",
    "    test_predict = classifier.predict(X_test)\n",
    "    test_acc = accuracy_score(Y_test, test_predict)\n",
    "    test_scores.append(test_acc)\n",
    "\n",
    "    #print('>%d, train: %.3f, test: %.3f, diff: %.2f' % (i, train_acc*100, test_acc*100, (train_acc-test_acc)*100))\n",
    "    \n",
    "# plot of train and test scores vs number of neighbors\n",
    "pyplot.plot(values, train_scores, '-o', label='Train')\n",
    "pyplot.plot(values, test_scores, '-o', label='Test')\n",
    "pyplot.legend()\n",
    "pyplot.show()"
   ]
  },
  {
   "cell_type": "markdown",
   "id": "1cf88b74",
   "metadata": {},
   "source": [
    "4. Develop a function which can implement machine learning. (20)\n",
    "\n",
    "def machine_learning (data, algorithm):\n",
    "    \n",
    "    …\n",
    "    plot ROC curve\n",
    "    return performance metrics\n",
    "    \n",
    "Function call: machine_learning (data, neural_network)"
   ]
  },
  {
   "cell_type": "code",
   "execution_count": 159,
   "id": "2ba9613a",
   "metadata": {},
   "outputs": [
    {
     "name": "stdout",
     "output_type": "stream",
     "text": [
      "\n",
      "Results for algorithm: logistic_regression\n",
      "\n",
      "              precision    recall  f1-score   support\n",
      "\n",
      "           1       0.84      0.83      0.83        58\n",
      "           2       0.00      0.00      0.00         9\n",
      "\n",
      "    accuracy                           0.72        67\n",
      "   macro avg       0.42      0.41      0.42        67\n",
      "weighted avg       0.73      0.72      0.72        67\n",
      "\n"
     ]
    },
    {
     "data": {
      "image/png": "[encoded data removed]",
      "text/plain": [
       "<Figure size 432x288 with 2 Axes>"
      ]
     },
     "metadata": {
      "needs_background": "light"
     },
     "output_type": "display_data"
    },
    {
     "data": {
      "image/png": "[encoded data removed]",
      "text/plain": [
       "<Figure size 432x288 with 1 Axes>"
      ]
     },
     "metadata": {
      "needs_background": "light"
     },
     "output_type": "display_data"
    },
    {
     "name": "stdout",
     "output_type": "stream",
     "text": [
      "\n",
      "Results for algorithm: random_forest\n",
      "\n",
      "              precision    recall  f1-score   support\n",
      "\n",
      "           1       0.85      1.00      0.92        57\n",
      "           2       0.00      0.00      0.00        10\n",
      "\n",
      "    accuracy                           0.85        67\n",
      "   macro avg       0.43      0.50      0.46        67\n",
      "weighted avg       0.72      0.85      0.78        67\n",
      "\n"
     ]
    },
    {
     "name": "stderr",
     "output_type": "stream",
     "text": [
      "C:\\Users\\csutt\\anaconda3\\lib\\site-packages\\sklearn\\metrics\\_classification.py:1248: UndefinedMetricWarning: Precision and F-score are ill-defined and being set to 0.0 in labels with no predicted samples. Use `zero_division` parameter to control this behavior.\n",
      "  _warn_prf(average, modifier, msg_start, len(result))\n",
      "C:\\Users\\csutt\\anaconda3\\lib\\site-packages\\sklearn\\metrics\\_classification.py:1248: UndefinedMetricWarning: Precision and F-score are ill-defined and being set to 0.0 in labels with no predicted samples. Use `zero_division` parameter to control this behavior.\n",
      "  _warn_prf(average, modifier, msg_start, len(result))\n",
      "C:\\Users\\csutt\\anaconda3\\lib\\site-packages\\sklearn\\metrics\\_classification.py:1248: UndefinedMetricWarning: Precision and F-score are ill-defined and being set to 0.0 in labels with no predicted samples. Use `zero_division` parameter to control this behavior.\n",
      "  _warn_prf(average, modifier, msg_start, len(result))\n"
     ]
    },
    {
     "data": {
      "image/png": "[encoded data removed]",
      "text/plain": [
       "<Figure size 432x288 with 2 Axes>"
      ]
     },
     "metadata": {
      "needs_background": "light"
     },
     "output_type": "display_data"
    },
    {
     "data": {
      "image/png": "[encoded data removed]",
      "text/plain": [
       "<Figure size 432x288 with 1 Axes>"
      ]
     },
     "metadata": {
      "needs_background": "light"
     },
     "output_type": "display_data"
    },
    {
     "name": "stdout",
     "output_type": "stream",
     "text": [
      "\n",
      "Results for algorithm: support_vector_machine\n",
      "\n",
      "              precision    recall  f1-score   support\n",
      "\n",
      "           1       0.85      1.00      0.92        57\n",
      "           2       0.00      0.00      0.00        10\n",
      "\n",
      "    accuracy                           0.85        67\n",
      "   macro avg       0.43      0.50      0.46        67\n",
      "weighted avg       0.72      0.85      0.78        67\n",
      "\n"
     ]
    },
    {
     "name": "stderr",
     "output_type": "stream",
     "text": [
      "C:\\Users\\csutt\\anaconda3\\lib\\site-packages\\sklearn\\metrics\\_classification.py:1248: UndefinedMetricWarning: Precision and F-score are ill-defined and being set to 0.0 in labels with no predicted samples. Use `zero_division` parameter to control this behavior.\n",
      "  _warn_prf(average, modifier, msg_start, len(result))\n",
      "C:\\Users\\csutt\\anaconda3\\lib\\site-packages\\sklearn\\metrics\\_classification.py:1248: UndefinedMetricWarning: Precision and F-score are ill-defined and being set to 0.0 in labels with no predicted samples. Use `zero_division` parameter to control this behavior.\n",
      "  _warn_prf(average, modifier, msg_start, len(result))\n",
      "C:\\Users\\csutt\\anaconda3\\lib\\site-packages\\sklearn\\metrics\\_classification.py:1248: UndefinedMetricWarning: Precision and F-score are ill-defined and being set to 0.0 in labels with no predicted samples. Use `zero_division` parameter to control this behavior.\n",
      "  _warn_prf(average, modifier, msg_start, len(result))\n"
     ]
    },
    {
     "data": {
      "image/png": "[encoded data removed]",
      "text/plain": [
       "<Figure size 432x288 with 2 Axes>"
      ]
     },
     "metadata": {
      "needs_background": "light"
     },
     "output_type": "display_data"
    },
    {
     "data": {
      "image/png": "[encoded data removed]",
      "text/plain": [
       "<Figure size 432x288 with 1 Axes>"
      ]
     },
     "metadata": {
      "needs_background": "light"
     },
     "output_type": "display_data"
    },
    {
     "name": "stdout",
     "output_type": "stream",
     "text": [
      "\n",
      "Results for algorithm: neural_network\n",
      "\n",
      "              precision    recall  f1-score   support\n",
      "\n",
      "           1       0.80      0.77      0.79        53\n",
      "           2       0.25      0.29      0.27        14\n",
      "\n",
      "    accuracy                           0.67        67\n",
      "   macro avg       0.53      0.53      0.53        67\n",
      "weighted avg       0.69      0.67      0.68        67\n",
      "\n"
     ]
    },
    {
     "data": {
      "image/png": "[encoded data removed]",
      "text/plain": [
       "<Figure size 432x288 with 2 Axes>"
      ]
     },
     "metadata": {
      "needs_background": "light"
     },
     "output_type": "display_data"
    },
    {
     "data": {
      "image/png": "[encoded data removed]",
      "text/plain": [
       "<Figure size 432x288 with 1 Axes>"
      ]
     },
     "metadata": {
      "needs_background": "light"
     },
     "output_type": "display_data"
    }
   ],
   "source": [
    "def machine_learning(data, algorithm):\n",
    "    algorithm.lower()\n",
    "    \n",
    "    #hot encode data - makes the decision var the index at column 0\n",
    "    data_henc = pd.get_dummies(data, columns = [\"AgeAtOperation\",\"OperationYear\",\"NumAxillaryNodes\"])\n",
    "    #data_henc.columns ### no unknown columns to remove\n",
    "\n",
    "    # set up test and training data sets\n",
    "    X = data_henc.iloc[:,1:]  # select all columns beginning at 2nd column (index[1])\n",
    "    Y = data_henc.iloc[:,0]   # set as the decision var\n",
    "    X_train, X_test, Y_train, Y_test = train_test_split(X, Y)\n",
    "    \n",
    "    if algorithm == 'logistic_regression':\n",
    "        classifier = LogisticRegression(solver='lbfgs',random_state=10, penalty='none', max_iter=300)\n",
    "    elif algorithm == 'random_forest':\n",
    "        classifier = RandomForestClassifier(max_depth=2, random_state=0)\n",
    "    elif algorithm == 'support_vector_machine':\n",
    "        classifier = SVC(kernel='rbf')\n",
    "    elif algorithm == 'neural_network':\n",
    "        classifier = MLPClassifier(solver='lbfgs', alpha=0.0001)\n",
    " \n",
    "    print('\\n\\rResults for algorithm: ' + algorithm)\n",
    "    classifier.fit(X_train, Y_train)\n",
    "    prediction = classifier.predict(X_test)\n",
    "    print ('\\n\\r' + classification_report(Y_test, prediction, labels=classifier.classes_))\n",
    "    \n",
    "    cm = confusion_matrix(Y_test, prediction, labels=classifier.classes_)\n",
    "    predict_labels = [\"Survived\",\"Died\"]\n",
    "    disp = ConfusionMatrixDisplay(confusion_matrix = cm, display_labels = predict_labels)\n",
    "    disp.plot()\n",
    "    plt.show()\n",
    "\n",
    "    plot_roc_curve(classifier, X_test, Y_test)\n",
    "    plt.show()\n",
    "    \n",
    "machine_learning(data_no_outlier,'logistic_regression')\n",
    "machine_learning(data_no_outlier,'random_forest')\n",
    "machine_learning(data_no_outlier,'support_vector_machine')\n",
    "machine_learning(data_no_outlier,'neural_network')"
   ]
  },
  {
   "cell_type": "code",
   "execution_count": null,
   "id": "04bb86b6",
   "metadata": {},
   "outputs": [],
   "source": []
  }
 ],
 "metadata": {
  "kernelspec": {
   "display_name": "Python 3 (ipykernel)",
   "language": "python",
   "name": "python3"
  },
  "language_info": {
   "codemirror_mode": {
    "name": "ipython",
    "version": 3
   },
   "file_extension": ".py",
   "mimetype": "text/x-python",
   "name": "python",
   "nbconvert_exporter": "python",
   "pygments_lexer": "ipython3",
   "version": "3.9.7"
  }
 },
 "nbformat": 4,
 "nbformat_minor": 5
}
